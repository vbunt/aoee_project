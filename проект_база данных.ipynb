{
 "cells": [
  {
   "cell_type": "code",
   "execution_count": 1,
   "metadata": {},
   "outputs": [],
   "source": [
    "import sqlite3"
   ]
  },
  {
   "cell_type": "code",
   "execution_count": 2,
   "metadata": {},
   "outputs": [],
   "source": [
    "conn = sqlite3.connect('project.db')\n",
    "cur = conn.cursor()"
   ]
  },
  {
   "cell_type": "code",
   "execution_count": 3,
   "metadata": {},
   "outputs": [],
   "source": [
    "cur.execute(\"\"\"\n",
    "CREATE TABLE IF NOT EXISTS main \n",
    "(token_id int PRIMARY KEY, \n",
    "sentence_id int)\n",
    "\"\"\")\n",
    "\n",
    "conn.commit()\n",
    "\n",
    "cur.execute(\"\"\"\n",
    "CREATE TABLE IF NOT EXISTS tokens \n",
    "(token_id int PRIMARY KEY, \n",
    "word text, \n",
    "lemma text, \n",
    "pos text)\n",
    "\"\"\")\n",
    "\n",
    "conn.commit()\n",
    "\n",
    "cur.execute(\"\"\"\n",
    "CREATE TABLE IF NOT EXISTS sentences \n",
    "(sentence_id int PRIMARY KEY, \n",
    "sentence text, \n",
    "text_id int)\n",
    "\"\"\")\n",
    "\n",
    "conn.commit()\n",
    "\n",
    "cur.execute(\"\"\"\n",
    "CREATE TABLE IF NOT EXISTS texts \n",
    "(text_id int PRIMARY KEY, \n",
    "title text,\n",
    "source text)\n",
    "\"\"\")\n",
    "\n",
    "conn.commit()"
   ]
  },
  {
   "cell_type": "code",
   "execution_count": 4,
   "metadata": {},
   "outputs": [],
   "source": [
    "from os import listdir\n",
    "from os.path import isfile, join\n",
    "mypath = './harry_txt_sentences'\n",
    "files = [f for f in listdir(mypath) if isfile(join(mypath, f))]"
   ]
  },
  {
   "cell_type": "code",
   "execution_count": 5,
   "metadata": {},
   "outputs": [
    {
     "data": {
      "text/plain": [
       "['Гарри Поттер и Дары Смерти.txt',\n",
       " 'Гарри Поттер и кубок Огня.txt',\n",
       " 'Гарри Поттер и Орден Феникса.txt',\n",
       " 'Гарри Поттер и Принц-Полукровка.txt',\n",
       " 'Гарри Поттер и тайная комната.txt',\n",
       " 'Гарри Поттер и Узник Азкабана.txt',\n",
       " 'Гарри Поттер и философский камень.txt']"
      ]
     },
     "execution_count": 5,
     "metadata": {},
     "output_type": "execute_result"
    }
   ],
   "source": [
    "files"
   ]
  },
  {
   "cell_type": "code",
   "execution_count": 6,
   "metadata": {},
   "outputs": [],
   "source": [
    "text_id = 0\n",
    "sent_id = 0\n",
    "for file in files:\n",
    "    cur.execute(\n",
    "        '''INSERT INTO texts (text_id, title, source)\n",
    "        VALUES (?, ?, ?)''',\n",
    "        (text_id, file.split('.')[0], 'Flibusta')\n",
    "    )\n",
    "    conn.commit()\n",
    "    \n",
    "    with open(join(mypath, file), 'r', encoding='utf-8') as f:\n",
    "        sentences = f.read().split('\\n')\n",
    "        for sent in sentences:\n",
    "            cur.execute(\n",
    "                '''INSERT INTO sentences (sentence_id, sentence, text_id)\n",
    "                VALUES (?, ?, ?)''',\n",
    "                (sent_id, sent, text_id)\n",
    "            )\n",
    "            conn.commit()\n",
    "            sent_id += 1\n",
    "    text_id += 1"
   ]
  }
 ],
 "metadata": {
  "kernelspec": {
   "display_name": "Python 3",
   "language": "python",
   "name": "python3"
  },
  "language_info": {
   "codemirror_mode": {
    "name": "ipython",
    "version": 3
   },
   "file_extension": ".py",
   "mimetype": "text/x-python",
   "name": "python",
   "nbconvert_exporter": "python",
   "pygments_lexer": "ipython3",
   "version": "3.8.2"
  }
 },
 "nbformat": 4,
 "nbformat_minor": 4
}
