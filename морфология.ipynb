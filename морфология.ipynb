{
 "cells": [
  {
   "cell_type": "code",
   "execution_count": 1,
   "metadata": {},
   "outputs": [],
   "source": [
    "from natasha import (\n",
    "    Segmenter,\n",
    "    MorphVocab,\n",
    "    \n",
    "    NewsEmbedding,\n",
    "    NewsMorphTagger,\n",
    "    Doc\n",
    ")\n",
    "\n",
    "segmenter = Segmenter()\n",
    "morph_vocab = MorphVocab()\n",
    "emb = NewsEmbedding()\n",
    "morph_tagger = NewsMorphTagger(emb)"
   ]
  },
  {
   "cell_type": "code",
   "execution_count": 2,
   "metadata": {},
   "outputs": [],
   "source": [
    "import sqlite3"
   ]
  },
  {
   "cell_type": "code",
   "execution_count": 3,
   "metadata": {},
   "outputs": [],
   "source": [
    "import time"
   ]
  },
  {
   "cell_type": "code",
   "execution_count": 4,
   "metadata": {},
   "outputs": [],
   "source": [
    "conn = sqlite3.connect('project_80pc.db')\n",
    "cur = conn.cursor()"
   ]
  },
  {
   "cell_type": "code",
   "execution_count": 5,
   "metadata": {},
   "outputs": [],
   "source": [
    "def add_tokens(sentence, t):\n",
    "    s = sentence[0]\n",
    "    text = sentence[1]\n",
    "    doc = Doc(text)\n",
    "    doc.segment(segmenter)\n",
    "    doc.tag_morph(morph_tagger)\n",
    "    \n",
    "    for token in doc.tokens:\n",
    "        token.lemmatize(morph_vocab)\n",
    "        word = token.text.lower()\n",
    "        pos = token.pos\n",
    "        lemma = token.lemma\n",
    "        \n",
    "        token_id = t\n",
    "        \n",
    "        if pos == 'PUNCT':\n",
    "            continue\n",
    "        else:   \n",
    "            t += 1\n",
    "            cur.execute(\n",
    "                    '''INSERT INTO main (token_id, sentence_id)\n",
    "                        VALUES (?, ?)''',\n",
    "                        (token_id, s)\n",
    "                    )\n",
    "            conn.commit()\n",
    "\n",
    "            cur.execute(\n",
    "                    '''INSERT INTO tokens (token_id, word, lemma, pos)\n",
    "                        VALUES (?, ?, ?, ?)''',\n",
    "                        (token_id, word, lemma, pos)\n",
    "                    )\n",
    "            conn.commit()\n",
    "    return t"
   ]
  },
  {
   "cell_type": "code",
   "execution_count": 6,
   "metadata": {
    "collapsed": true
   },
   "outputs": [
    {
     "name": "stdout",
     "output_type": "stream",
     "text": [
      "0\n",
      "20\n",
      "40\n",
      "60\n",
      "80\n",
      "100\n",
      "120\n",
      "90000\n",
      "90020\n",
      "90040\n",
      "90060\n",
      "90080\n",
      "90100\n",
      "90120\n",
      "90140\n",
      "90160\n",
      "90180\n",
      "90200\n"
     ]
    }
   ],
   "source": [
    "time1 = time.time()\n",
    "t = 0\n",
    "for i in range (0, 90220, 20):\n",
    "    cur.execute(\"\"\"\n",
    "    select sentence_id, sentence from sentences\n",
    "    where sentence_id >= ? and sentence_id < ?\n",
    "    \"\"\", (i, i+20))\n",
    "    sents = cur.fetchall()\n",
    "    print(i)\n",
    "    \n",
    "    \n",
    "    for sentence in sents:\n",
    "        t = add_tokens(sentence, t)\n",
    "        \n",
    "        \n",
    "time2 = time.time()"
   ]
  },
  {
   "cell_type": "code",
   "execution_count": 7,
   "metadata": {},
   "outputs": [
    {
     "name": "stdout",
     "output_type": "stream",
     "text": [
      "3977.3229410648346\n"
     ]
    }
   ],
   "source": [
    "print(time2-time1)"
   ]
  },
  {
   "cell_type": "code",
   "execution_count": null,
   "metadata": {},
   "outputs": [],
   "source": []
  }
 ],
 "metadata": {
  "kernelspec": {
   "display_name": "Python 3",
   "language": "python",
   "name": "python3"
  },
  "language_info": {
   "codemirror_mode": {
    "name": "ipython",
    "version": 3
   },
   "file_extension": ".py",
   "mimetype": "text/x-python",
   "name": "python",
   "nbconvert_exporter": "python",
   "pygments_lexer": "ipython3",
   "version": "3.7.3"
  }
 },
 "nbformat": 4,
 "nbformat_minor": 2
}
