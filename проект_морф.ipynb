{
 "cells": [
  {
   "cell_type": "code",
   "execution_count": 1,
   "metadata": {},
   "outputs": [],
   "source": [
    "from natasha import (\n",
    "    Segmenter,\n",
    "    MorphVocab,\n",
    "    \n",
    "    NewsEmbedding,\n",
    "    NewsMorphTagger,\n",
    "    Doc\n",
    ")\n",
    "\n",
    "segmenter = Segmenter()\n",
    "morph_vocab = MorphVocab()\n",
    "emb = NewsEmbedding()\n",
    "morph_tagger = NewsMorphTagger(emb)"
   ]
  },
  {
   "cell_type": "code",
   "execution_count": 2,
   "metadata": {},
   "outputs": [],
   "source": [
    "import sqlite3"
   ]
  },
  {
   "cell_type": "code",
   "execution_count": 3,
   "metadata": {},
   "outputs": [],
   "source": [
    "conn = sqlite3.connect('project.db')\n",
    "cur = conn.cursor()"
   ]
  },
  {
   "cell_type": "code",
   "execution_count": 4,
   "metadata": {},
   "outputs": [],
   "source": [
    "cur.execute(\"\"\"\n",
    "CREATE TABLE IF NOT EXISTS main \n",
    "(token_id int PRIMARY KEY, \n",
    "sentence_id int)\n",
    "\"\"\")\n",
    "\n",
    "conn.commit()\n",
    "\n",
    "cur.execute(\"\"\"\n",
    "CREATE TABLE IF NOT EXISTS tokens \n",
    "(token_id int PRIMARY KEY, \n",
    "word text, \n",
    "lemma text, \n",
    "pos text)\n",
    "\"\"\")\n",
    "\n",
    "conn.commit()\n",
    "\n",
    "cur.execute(\"\"\"\n",
    "CREATE TABLE IF NOT EXISTS sentences \n",
    "(sentence_id int PRIMARY KEY, \n",
    "sentence text, \n",
    "text_id int)\n",
    "\"\"\")\n",
    "\n",
    "conn.commit()\n",
    "\n",
    "cur.execute(\"\"\"\n",
    "CREATE TABLE IF NOT EXISTS texts \n",
    "(text_id int PRIMARY KEY, \n",
    "title text)\n",
    "\"\"\")\n",
    "\n",
    "conn.commit()"
   ]
  },
  {
   "cell_type": "code",
   "execution_count": 5,
   "metadata": {},
   "outputs": [],
   "source": [
    "with open ('alice.txt', 'r') as f:\n",
    "    text = f.read()"
   ]
  },
  {
   "cell_type": "code",
   "execution_count": 6,
   "metadata": {},
   "outputs": [],
   "source": [
    "doc = Doc(text)"
   ]
  },
  {
   "cell_type": "code",
   "execution_count": 7,
   "metadata": {},
   "outputs": [],
   "source": [
    "doc.segment(segmenter)\n",
    "doc.tag_morph(morph_tagger)"
   ]
  },
  {
   "cell_type": "code",
   "execution_count": 8,
   "metadata": {},
   "outputs": [
    {
     "data": {
      "text/plain": [
       "DocSent(stop=141, text='Около  дома  под  деревом  стоял накрытый стол, а..., tokens=[...])"
      ]
     },
     "metadata": {},
     "output_type": "display_data"
    },
    {
     "data": {
      "text/plain": [
       "DocSent(start=143, stop=236, text='Болванщик  и  Заяц  облокотились  на нее, словно ..., tokens=[...])"
      ]
     },
     "metadata": {},
     "output_type": "display_data"
    },
    {
     "data": {
      "text/plain": [
       "DocSent(start=241, stop=279, text='— Бедная Мышь-Соня, — подумала  Алиса.', tokens=[...])"
      ]
     },
     "metadata": {},
     "output_type": "display_data"
    },
    {
     "data": {
      "text/plain": [
       "DocSent(start=281, stop=312, text='—  Как  ей,  наверно,\\nнеудобно!', tokens=[...])"
      ]
     },
     "metadata": {},
     "output_type": "display_data"
    },
    {
     "data": {
      "text/plain": [
       "DocSent(start=313, stop=354, text='Впрочем, она спит — значит, ей все равно.', tokens=[...])"
      ]
     },
     "metadata": {},
     "output_type": "display_data"
    },
    {
     "data": {
      "text/plain": [
       "DocSent(start=359, stop=426, text='Стол  был  большой,  но  чаевники  сидели с одног..., tokens=[...])"
      ]
     },
     "metadata": {},
     "output_type": "display_data"
    },
    {
     "data": {
      "text/plain": [
       "DocSent(start=427, stop=478, text='Завидев Алису Лидделл, они закричали:\\n    — Заня..., tokens=[...])"
      ]
     },
     "metadata": {},
     "output_type": "display_data"
    },
    {
     "data": {
      "text/plain": [
       "DocSent(start=479, stop=486, text='Занято!', tokens=[...])"
      ]
     },
     "metadata": {},
     "output_type": "display_data"
    },
    {
     "data": {
      "text/plain": [
       "DocSent(start=487, stop=496, text='Мест нет!', tokens=[...])"
      ]
     },
     "metadata": {},
     "output_type": "display_data"
    },
    {
     "data": {
      "text/plain": [
       "DocSent(start=501, stop=524, text='— Места сколько угодно!', tokens=[...])"
      ]
     },
     "metadata": {},
     "output_type": "display_data"
    },
    {
     "data": {
      "text/plain": [
       "DocSent(start=525, stop=622, text='Места нет только в МФТИ! — возмутилась Алиса и  у..., tokens=[...])"
      ]
     },
     "metadata": {},
     "output_type": "display_data"
    },
    {
     "data": {
      "text/plain": [
       "DocSent(start=627, stop=675, text='— Выпей вина, — бодро предложил Мартовский Заяц.', tokens=[...])"
      ]
     },
     "metadata": {},
     "output_type": "display_data"
    },
    {
     "data": {
      "text/plain": [
       "DocSent(start=680, stop=746, text='Алиса  посмотрела  на  стол,  но  не увидела ни б..., tokens=[...])"
      ]
     },
     "metadata": {},
     "output_type": "display_data"
    },
    {
     "data": {
      "text/plain": [
       "DocSent(start=751, stop=789, text='— Я что-то его не вижу, — сказала она.', tokens=[...])"
      ]
     },
     "metadata": {},
     "output_type": "display_data"
    },
    {
     "data": {
      "text/plain": [
       "DocSent(start=794, stop=803, text='— Еще бы!', tokens=[...])"
      ]
     },
     "metadata": {},
     "output_type": "display_data"
    },
    {
     "data": {
      "text/plain": [
       "DocSent(start=804, stop=845, text='Его здесь нет! — отвечал Мартовский Заяц.', tokens=[...])"
      ]
     },
     "metadata": {},
     "output_type": "display_data"
    },
    {
     "data": {
      "text/plain": [
       "DocSent(start=850, stop=907, text='— Зачем же вы мне его предлагаете! — рассердилась..., tokens=[...])"
      ]
     },
     "metadata": {},
     "output_type": "display_data"
    },
    {
     "data": {
      "text/plain": [
       "DocSent(start=908, stop=934, text='— Это не очень-то вежливо.', tokens=[...])"
      ]
     },
     "metadata": {},
     "output_type": "display_data"
    },
    {
     "data": {
      "text/plain": [
       "DocSent(start=939, stop=1013, text='— А   зачем   ты   уселась  без  приглашения?  — ..., tokens=[...])"
      ]
     },
     "metadata": {},
     "output_type": "display_data"
    },
    {
     "data": {
      "text/plain": [
       "DocSent(start=1014, stop=1035, text='— Это тоже невежливо!', tokens=[...])"
      ]
     },
     "metadata": {},
     "output_type": "display_data"
    },
    {
     "data": {
      "text/plain": [
       "DocSent(start=1040, stop=1122, text='— Я не знала, что это стол  только  для  вас и ст..., tokens=[...])"
      ]
     },
     "metadata": {},
     "output_type": "display_data"
    },
    {
     "data": {
      "text/plain": [
       "DocSent(start=1123, stop=1155, text='— Приборов здесь гораздо больше.', tokens=[...])"
      ]
     },
     "metadata": {},
     "output_type": "display_data"
    },
    {
     "data": {
      "text/plain": [
       "DocSent(start=1160, stop=1217, text='— Что-то ты слишком обросла! — заговорил вдруг Бо..., tokens=[...])"
      ]
     },
     "metadata": {},
     "output_type": "display_data"
    },
    {
     "data": {
      "text/plain": [
       "DocSent(start=1222, stop=1288, text='До  сих  пор  он молчал и только с любопытством р..., tokens=[...])"
      ]
     },
     "metadata": {},
     "output_type": "display_data"
    },
    {
     "data": {
      "text/plain": [
       "DocSent(start=1289, stop=1315, text='— Не мешало бы постричься.', tokens=[...])"
      ]
     },
     "metadata": {},
     "output_type": "display_data"
    },
    {
     "data": {
      "text/plain": [
       "DocSent(start=1320, stop=1395, text='— Научитесь не переходить на личности, —  отвечал..., tokens=[...])"
      ]
     },
     "metadata": {},
     "output_type": "display_data"
    },
    {
     "data": {
      "text/plain": [
       "DocSent(start=1396, stop=1414, text='— Это очень грубо.', tokens=[...])"
      ]
     },
     "metadata": {},
     "output_type": "display_data"
    },
    {
     "data": {
      "text/plain": [
       "DocSent(start=1419, stop=1485, text='Болванщик Волков широко открыл глаза, но не нашел..., tokens=[...])"
      ]
     },
     "metadata": {},
     "output_type": "display_data"
    },
    {
     "data": {
      "text/plain": [
       "DocSent(start=1490, stop=1552, text='— Чем Тянь-Шань похож на диван-кровать? — спросил..., tokens=[...])"
      ]
     },
     "metadata": {},
     "output_type": "display_data"
    },
    {
     "data": {
      "text/plain": [
       "DocSent(start=1557, stop=1594, text='— Так-то  лучше,  —  подумала  Алиса.', tokens=[...])"
      ]
     },
     "metadata": {},
     "output_type": "display_data"
    },
    {
     "data": {
      "text/plain": [
       "DocSent(start=1596, stop=1631, text='—  Загадки — это\\nгораздо веселее...', tokens=[...])"
      ]
     },
     "metadata": {},
     "output_type": "display_data"
    },
    {
     "data": {
      "text/plain": [
       "DocSent(start=1636, stop=1689, text='— По-моему, это я могу отгадать, — сказала она вс..., tokens=[...])"
      ]
     },
     "metadata": {},
     "output_type": "display_data"
    },
    {
     "data": {
      "text/plain": [
       "DocSent(start=1694, stop=1792, text='— Ты хочешь сказать, что думаешь, будто  знаешь  ..., tokens=[...])"
      ]
     },
     "metadata": {},
     "output_type": "display_data"
    }
   ],
   "source": [
    "text_id = 0 # его мы изначально знаем\n",
    "s = 0\n",
    "t = 0\n",
    "for sent in doc.sents:\n",
    "    sentence = sent.text\n",
    "    display(sent)\n",
    "    sentence_id = s\n",
    "    s += 1\n",
    "    \n",
    "    cur.execute(\n",
    "                '''INSERT INTO sentences (sentence_id, sentence, text_id)\n",
    "                    VALUES (?, ?, ?)''',\n",
    "                    (sentence_id, sentence, text_id)\n",
    "                )\n",
    "    conn.commit()\n",
    "    \n",
    "    \n",
    "    for token in sent.tokens:\n",
    "        token.lemmatize(morph_vocab)\n",
    "        word = token.text.lower()\n",
    "        pos = token.pos\n",
    "        lemma = token.lemma\n",
    "        \n",
    "        token_id = t\n",
    "        t += 1\n",
    "        \n",
    "        if pos == 'PUNCT':\n",
    "            continue\n",
    "        else:   \n",
    "            cur.execute(\n",
    "                    '''INSERT INTO main (token_id, sentence_id)\n",
    "                        VALUES (?, ?)''',\n",
    "                        (token_id, sentence_id)\n",
    "                    )\n",
    "            conn.commit()\n",
    "\n",
    "            cur.execute(\n",
    "                    '''INSERT INTO tokens (token_id, word, lemma, pos)\n",
    "                        VALUES (?, ?, ?, ?)''',\n",
    "                        (token_id, word, lemma, pos)\n",
    "                    )\n",
    "            conn.commit()"
   ]
  },
  {
   "cell_type": "code",
   "execution_count": 9,
   "metadata": {},
   "outputs": [
    {
     "data": {
      "text/plain": [
       "'hello'"
      ]
     },
     "execution_count": 9,
     "metadata": {},
     "output_type": "execute_result"
    }
   ],
   "source": [
    "'HEllo'.lower()"
   ]
  },
  {
   "cell_type": "code",
   "execution_count": null,
   "metadata": {},
   "outputs": [],
   "source": []
  }
 ],
 "metadata": {
  "kernelspec": {
   "display_name": "Python 3",
   "language": "python",
   "name": "python3"
  },
  "language_info": {
   "codemirror_mode": {
    "name": "ipython",
    "version": 3
   },
   "file_extension": ".py",
   "mimetype": "text/x-python",
   "name": "python",
   "nbconvert_exporter": "python",
   "pygments_lexer": "ipython3",
   "version": "3.7.3"
  }
 },
 "nbformat": 4,
 "nbformat_minor": 2
}
