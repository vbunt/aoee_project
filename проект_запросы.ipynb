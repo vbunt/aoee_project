{
 "cells": [
  {
   "cell_type": "code",
   "execution_count": 2,
   "metadata": {},
   "outputs": [],
   "source": [
    "import sqlite3"
   ]
  },
  {
   "cell_type": "code",
   "execution_count": 3,
   "metadata": {},
   "outputs": [],
   "source": [
    "conn = sqlite3.connect('project.db')\n",
    "cur = conn.cursor()"
   ]
  },
  {
   "cell_type": "markdown",
   "metadata": {},
   "source": [
    "## запрос \"место+NOUN\""
   ]
  },
  {
   "cell_type": "code",
   "execution_count": 5,
   "metadata": {},
   "outputs": [],
   "source": [
    "cur.execute('''\n",
    "    select tokens.word, sentences.sentence\n",
    "    from main\n",
    "    join tokens on tokens.token_id = main.token_id\n",
    "    join sentences on sentences.sentence_id = main.sentence_id\n",
    "    where tokens.pos = \"NOUN\" and tokens.lemma = \"место\" ''')\n",
    "data = cur.fetchall()"
   ]
  },
  {
   "cell_type": "code",
   "execution_count": 8,
   "metadata": {},
   "outputs": [
    {
     "name": "stdout",
     "output_type": "stream",
     "text": [
      "[('Мест', 'Мест нет!'), ('Места', '— Места сколько угодно!'), ('Места', 'Места нет только в МФТИ! — возмутилась Алиса и  уселась  в\\nбольшое кресло-качалку во главе стола.')]\n"
     ]
    }
   ],
   "source": [
    "print(data)"
   ]
  },
  {
   "cell_type": "markdown",
   "metadata": {},
   "source": [
    "## запрос ‘ADJ дом’"
   ]
  },
  {
   "cell_type": "code",
   "execution_count": 53,
   "metadata": {},
   "outputs": [],
   "source": [
    "def second(): # здесь я сначала ищу слово заяц, потому что его явно меньше, чем прилагательных\n",
    "                # но в реальности модули поиска конечно надо запускать как в запросе\n",
    "    cur.execute('''\n",
    "        select tokens.word, tokens.token_id, sentences.sentence_id\n",
    "        from main\n",
    "        join tokens on tokens.token_id = main.token_id\n",
    "        join sentences on sentences.sentence_id = main.sentence_id\n",
    "        where tokens.lemma = \"заяц\" ''')\n",
    "    data = cur.fetchall()\n",
    "    return data"
   ]
  },
  {
   "cell_type": "code",
   "execution_count": 54,
   "metadata": {},
   "outputs": [],
   "source": [
    "def first(token_id, sentence_id): # теперь я ищу перед словом заяц прилагательные, обязательно в том же предложении\n",
    "    cur.execute('''\n",
    "        select tokens.word, sentences.sentence\n",
    "        from main\n",
    "        join tokens on tokens.token_id = main.token_id\n",
    "        join sentences on sentences.sentence_id = main.sentence_id\n",
    "        where tokens.token_id == ? and sentences.sentence_id = ? and tokens.pos == \"ADJ\"''', (token_id-1, sentence_id))\n",
    "    data = cur.fetchall()\n",
    "    return data"
   ]
  },
  {
   "cell_type": "code",
   "execution_count": 75,
   "metadata": {},
   "outputs": [],
   "source": [
    "def m():\n",
    "    data = second() # тут я собираю все вхождения заяц\n",
    "    for row in data: # прохожу отдельно по каждому вхождению\n",
    "        second_word = row[0]\n",
    "        data2 = first(row[1], row[2]) # и ищу перед ним прилагательное\n",
    "        if data2: # если оно есть, то\n",
    "            first_word = data2[0][0]\n",
    "            sentence = data2[0][1]\n",
    "            concord = first_word + ' ' + second_word # я собираю словосочетание\n",
    "            print(concord, '--', sentence) # и вывожу его с предложением\n",
    "            print('\\n')"
   ]
  },
  {
   "cell_type": "code",
   "execution_count": 76,
   "metadata": {},
   "outputs": [
    {
     "name": "stdout",
     "output_type": "stream",
     "text": [
      "Мартовский Заяц -- Около  дома  под  деревом  стоял накрытый стол, а за столом\n",
      "пили чай Мартовский Заяц и Болванщик Волков, между ними  крепко  спала\n",
      "Мышь-Соня.\n",
      "\n",
      "\n",
      "Мартовский Заяц -- — Выпей вина, — бодро предложил Мартовский Заяц.\n",
      "\n",
      "\n",
      "Мартовский Заяц -- Его здесь нет! — отвечал Мартовский Заяц.\n",
      "\n",
      "\n",
      "Мартовский Заяц -- — А   зачем   ты   уселась  без  приглашения?  —  ответил\n",
      "Мартовский Заяц.\n",
      "\n",
      "\n",
      "Мартовский Заяц -- — Ты хочешь сказать, что думаешь, будто  знаешь  ответ  на\n",
      "эту загадку? — спросил Мартовский Заяц.\n",
      "\n",
      "\n"
     ]
    }
   ],
   "source": [
    "m()"
   ]
  },
  {
   "cell_type": "code",
   "execution_count": null,
   "metadata": {},
   "outputs": [],
   "source": []
  }
 ],
 "metadata": {
  "kernelspec": {
   "display_name": "Python 3",
   "language": "python",
   "name": "python3"
  },
  "language_info": {
   "codemirror_mode": {
    "name": "ipython",
    "version": 3
   },
   "file_extension": ".py",
   "mimetype": "text/x-python",
   "name": "python",
   "nbconvert_exporter": "python",
   "pygments_lexer": "ipython3",
   "version": "3.7.3"
  }
 },
 "nbformat": 4,
 "nbformat_minor": 2
}
